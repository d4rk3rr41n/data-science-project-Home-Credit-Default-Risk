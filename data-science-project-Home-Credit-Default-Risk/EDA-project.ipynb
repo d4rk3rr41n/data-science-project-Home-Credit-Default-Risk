{
 "cells": [
  {
   "cell_type": "markdown",
   "metadata": {},
   "source": [
    "# Home Credit Default Risk Analysis and Modeling"
   ]
  },
  {
   "cell_type": "markdown",
   "metadata": {},
   "source": [
    "## Importing Libraries\n",
    "We are using core data science library stack:\n",
    "- numpy\n",
    "- pandas\n",
    "- sklearn\n",
    "- matplotlib"
   ]
  },
  {
   "cell_type": "code",
   "execution_count": 68,
   "metadata": {},
   "outputs": [],
   "source": [
    "import numpy as np\n",
    "import pandas as pd\n",
    "import matplotlib.pyplot as plt\n",
    "import seaborn as sns\n",
    "\n",
    "from sklearn.preprocessing import LabelEncoder"
   ]
  },
  {
   "cell_type": "markdown",
   "metadata": {},
   "source": [
    "## Read Train Dataset"
   ]
  },
  {
   "cell_type": "code",
   "execution_count": 69,
   "metadata": {},
   "outputs": [
    {
     "name": "stdout",
     "output_type": "stream",
     "text": [
      "Training dataset has 307511 rows and 122 columns\n"
     ]
    },
    {
     "data": {
      "text/html": [
       "<div>\n",
       "<style scoped>\n",
       "    .dataframe tbody tr th:only-of-type {\n",
       "        vertical-align: middle;\n",
       "    }\n",
       "\n",
       "    .dataframe tbody tr th {\n",
       "        vertical-align: top;\n",
       "    }\n",
       "\n",
       "    .dataframe thead th {\n",
       "        text-align: right;\n",
       "    }\n",
       "</style>\n",
       "<table border=\"1\" class=\"dataframe\">\n",
       "  <thead>\n",
       "    <tr style=\"text-align: right;\">\n",
       "      <th></th>\n",
       "      <th>SK_ID_CURR</th>\n",
       "      <th>TARGET</th>\n",
       "      <th>NAME_CONTRACT_TYPE</th>\n",
       "      <th>CODE_GENDER</th>\n",
       "      <th>FLAG_OWN_CAR</th>\n",
       "      <th>FLAG_OWN_REALTY</th>\n",
       "      <th>CNT_CHILDREN</th>\n",
       "      <th>AMT_INCOME_TOTAL</th>\n",
       "      <th>AMT_CREDIT</th>\n",
       "      <th>AMT_ANNUITY</th>\n",
       "      <th>...</th>\n",
       "      <th>FLAG_DOCUMENT_18</th>\n",
       "      <th>FLAG_DOCUMENT_19</th>\n",
       "      <th>FLAG_DOCUMENT_20</th>\n",
       "      <th>FLAG_DOCUMENT_21</th>\n",
       "      <th>AMT_REQ_CREDIT_BUREAU_HOUR</th>\n",
       "      <th>AMT_REQ_CREDIT_BUREAU_DAY</th>\n",
       "      <th>AMT_REQ_CREDIT_BUREAU_WEEK</th>\n",
       "      <th>AMT_REQ_CREDIT_BUREAU_MON</th>\n",
       "      <th>AMT_REQ_CREDIT_BUREAU_QRT</th>\n",
       "      <th>AMT_REQ_CREDIT_BUREAU_YEAR</th>\n",
       "    </tr>\n",
       "  </thead>\n",
       "  <tbody>\n",
       "    <tr>\n",
       "      <th>0</th>\n",
       "      <td>100002</td>\n",
       "      <td>1</td>\n",
       "      <td>Cash loans</td>\n",
       "      <td>M</td>\n",
       "      <td>N</td>\n",
       "      <td>Y</td>\n",
       "      <td>0</td>\n",
       "      <td>202500.0</td>\n",
       "      <td>406597.5</td>\n",
       "      <td>24700.5</td>\n",
       "      <td>...</td>\n",
       "      <td>0</td>\n",
       "      <td>0</td>\n",
       "      <td>0</td>\n",
       "      <td>0</td>\n",
       "      <td>0.0</td>\n",
       "      <td>0.0</td>\n",
       "      <td>0.0</td>\n",
       "      <td>0.0</td>\n",
       "      <td>0.0</td>\n",
       "      <td>1.0</td>\n",
       "    </tr>\n",
       "    <tr>\n",
       "      <th>1</th>\n",
       "      <td>100003</td>\n",
       "      <td>0</td>\n",
       "      <td>Cash loans</td>\n",
       "      <td>F</td>\n",
       "      <td>N</td>\n",
       "      <td>N</td>\n",
       "      <td>0</td>\n",
       "      <td>270000.0</td>\n",
       "      <td>1293502.5</td>\n",
       "      <td>35698.5</td>\n",
       "      <td>...</td>\n",
       "      <td>0</td>\n",
       "      <td>0</td>\n",
       "      <td>0</td>\n",
       "      <td>0</td>\n",
       "      <td>0.0</td>\n",
       "      <td>0.0</td>\n",
       "      <td>0.0</td>\n",
       "      <td>0.0</td>\n",
       "      <td>0.0</td>\n",
       "      <td>0.0</td>\n",
       "    </tr>\n",
       "    <tr>\n",
       "      <th>2</th>\n",
       "      <td>100004</td>\n",
       "      <td>0</td>\n",
       "      <td>Revolving loans</td>\n",
       "      <td>M</td>\n",
       "      <td>Y</td>\n",
       "      <td>Y</td>\n",
       "      <td>0</td>\n",
       "      <td>67500.0</td>\n",
       "      <td>135000.0</td>\n",
       "      <td>6750.0</td>\n",
       "      <td>...</td>\n",
       "      <td>0</td>\n",
       "      <td>0</td>\n",
       "      <td>0</td>\n",
       "      <td>0</td>\n",
       "      <td>0.0</td>\n",
       "      <td>0.0</td>\n",
       "      <td>0.0</td>\n",
       "      <td>0.0</td>\n",
       "      <td>0.0</td>\n",
       "      <td>0.0</td>\n",
       "    </tr>\n",
       "    <tr>\n",
       "      <th>3</th>\n",
       "      <td>100006</td>\n",
       "      <td>0</td>\n",
       "      <td>Cash loans</td>\n",
       "      <td>F</td>\n",
       "      <td>N</td>\n",
       "      <td>Y</td>\n",
       "      <td>0</td>\n",
       "      <td>135000.0</td>\n",
       "      <td>312682.5</td>\n",
       "      <td>29686.5</td>\n",
       "      <td>...</td>\n",
       "      <td>0</td>\n",
       "      <td>0</td>\n",
       "      <td>0</td>\n",
       "      <td>0</td>\n",
       "      <td>NaN</td>\n",
       "      <td>NaN</td>\n",
       "      <td>NaN</td>\n",
       "      <td>NaN</td>\n",
       "      <td>NaN</td>\n",
       "      <td>NaN</td>\n",
       "    </tr>\n",
       "    <tr>\n",
       "      <th>4</th>\n",
       "      <td>100007</td>\n",
       "      <td>0</td>\n",
       "      <td>Cash loans</td>\n",
       "      <td>M</td>\n",
       "      <td>N</td>\n",
       "      <td>Y</td>\n",
       "      <td>0</td>\n",
       "      <td>121500.0</td>\n",
       "      <td>513000.0</td>\n",
       "      <td>21865.5</td>\n",
       "      <td>...</td>\n",
       "      <td>0</td>\n",
       "      <td>0</td>\n",
       "      <td>0</td>\n",
       "      <td>0</td>\n",
       "      <td>0.0</td>\n",
       "      <td>0.0</td>\n",
       "      <td>0.0</td>\n",
       "      <td>0.0</td>\n",
       "      <td>0.0</td>\n",
       "      <td>0.0</td>\n",
       "    </tr>\n",
       "  </tbody>\n",
       "</table>\n",
       "<p>5 rows × 122 columns</p>\n",
       "</div>"
      ],
      "text/plain": [
       "   SK_ID_CURR  TARGET NAME_CONTRACT_TYPE CODE_GENDER FLAG_OWN_CAR  \\\n",
       "0      100002       1         Cash loans           M            N   \n",
       "1      100003       0         Cash loans           F            N   \n",
       "2      100004       0    Revolving loans           M            Y   \n",
       "3      100006       0         Cash loans           F            N   \n",
       "4      100007       0         Cash loans           M            N   \n",
       "\n",
       "  FLAG_OWN_REALTY  CNT_CHILDREN  AMT_INCOME_TOTAL  AMT_CREDIT  AMT_ANNUITY  \\\n",
       "0               Y             0          202500.0    406597.5      24700.5   \n",
       "1               N             0          270000.0   1293502.5      35698.5   \n",
       "2               Y             0           67500.0    135000.0       6750.0   \n",
       "3               Y             0          135000.0    312682.5      29686.5   \n",
       "4               Y             0          121500.0    513000.0      21865.5   \n",
       "\n",
       "   ...  FLAG_DOCUMENT_18 FLAG_DOCUMENT_19 FLAG_DOCUMENT_20 FLAG_DOCUMENT_21  \\\n",
       "0  ...                 0                0                0                0   \n",
       "1  ...                 0                0                0                0   \n",
       "2  ...                 0                0                0                0   \n",
       "3  ...                 0                0                0                0   \n",
       "4  ...                 0                0                0                0   \n",
       "\n",
       "  AMT_REQ_CREDIT_BUREAU_HOUR AMT_REQ_CREDIT_BUREAU_DAY  \\\n",
       "0                        0.0                       0.0   \n",
       "1                        0.0                       0.0   \n",
       "2                        0.0                       0.0   \n",
       "3                        NaN                       NaN   \n",
       "4                        0.0                       0.0   \n",
       "\n",
       "   AMT_REQ_CREDIT_BUREAU_WEEK  AMT_REQ_CREDIT_BUREAU_MON  \\\n",
       "0                         0.0                        0.0   \n",
       "1                         0.0                        0.0   \n",
       "2                         0.0                        0.0   \n",
       "3                         NaN                        NaN   \n",
       "4                         0.0                        0.0   \n",
       "\n",
       "   AMT_REQ_CREDIT_BUREAU_QRT  AMT_REQ_CREDIT_BUREAU_YEAR  \n",
       "0                        0.0                         1.0  \n",
       "1                        0.0                         0.0  \n",
       "2                        0.0                         0.0  \n",
       "3                        NaN                         NaN  \n",
       "4                        0.0                         0.0  \n",
       "\n",
       "[5 rows x 122 columns]"
      ]
     },
     "execution_count": 69,
     "metadata": {},
     "output_type": "execute_result"
    }
   ],
   "source": [
    "application_train_df = pd.read_csv('assets/application_train.csv')\n",
    "print(f'Training dataset has {application_train_df.shape[0]} rows and {application_train_df.shape[1]} columns')\n",
    "application_train_df.head()"
   ]
  },
  {
   "cell_type": "markdown",
   "metadata": {},
   "source": [
    "## Exploratory Data Analysis (EDA)\n",
    "\n",
    "### Check Distribution of 'TARGET' Column\n",
    "Given that we are given a column called 'TARGET' that identifies whether a client had difficulties in repaying their loan with values 0 to indicate no difficulties and 1 to indicate difficulties as a first step in the data exploration we would like to know how the data is distributed."
   ]
  },
  {
   "cell_type": "code",
   "execution_count": 70,
   "metadata": {},
   "outputs": [
    {
     "name": "stdout",
     "output_type": "stream",
     "text": [
      "TARGET\n",
      "0    282686\n",
      "1     24825\n",
      "Name: count, dtype: int64\n",
      "===== PERCENTAGE =====\n",
      "TARGET\n",
      "0    91.927118\n",
      "1     8.072882\n",
      "Name: proportion, dtype: float64\n"
     ]
    }
   ],
   "source": [
    "target_counts = application_train_df['TARGET'].value_counts()\n",
    "print(target_counts)\n",
    "print('='*5, 'PERCENTAGE', '='*5)\n",
    "target_counts_normalized = application_train_df['TARGET'].value_counts(normalize=True)\n",
    "target_percentage = target_counts_normalized.apply(lambda x: x*100)\n",
    "print(target_percentage)\n"
   ]
  },
  {
   "cell_type": "code",
   "execution_count": 71,
   "metadata": {},
   "outputs": [
    {
     "data": {
      "text/plain": [
       "Text(0, 0.5, 'Data Perceentage (%)')"
      ]
     },
     "execution_count": 71,
     "metadata": {},
     "output_type": "execute_result"
    },
    {
     "data": {
      "image/png": "[encoded data removed]",
      "text/plain": [
       "<Figure size 640x480 with 1 Axes>"
      ]
     },
     "metadata": {},
     "output_type": "display_data"
    }
   ],
   "source": [
    "target_percentage.plot.bar(color='skyblue', edgecolor='black')\n",
    "plt.title('Distribution of Target Feautre')\n",
    "plt.xlabel('Target status')\n",
    "plt.ylabel('Data Perceentage (%)')"
   ]
  },
  {
   "cell_type": "markdown",
   "metadata": {},
   "source": [
    "From this information we can see that the vast majority of loans made have not presented difficulties at the time of repayment, we would be dealing with an unbalanced case of data."
   ]
  },
  {
   "cell_type": "markdown",
   "metadata": {},
   "source": [
    "## Check Null Values by Column"
   ]
  },
  {
   "cell_type": "code",
   "execution_count": 72,
   "metadata": {},
   "outputs": [],
   "source": [
    "def null_values_analisis(_df: pd.DataFrame) -> pd.DataFrame:\n",
    "    \n",
    "    null_values = _df.isnull().sum()\n",
    "    null_values_percentage = (null_values / _df.shape[0])*100\n",
    "    \n",
    "    null_values_by_column = pd.concat([null_values, null_values_percentage], axis=1)\n",
    "    \n",
    "    # usamos un fancy para retirnar los porcentajes con 0 (presentan completos sus datos)\n",
    "    null_values_by_column_without_0 = null_values_by_column[ null_values_by_column[0] != 0 ].sort_values(ascending=False, by=1)\n",
    "\n",
    "    print(f\"De {application_train_df.shape[1]} columnas, {null_values_by_column_without_0.shape[0]} presentan datos nulos\")\n",
    "    \n",
    "    return null_values_by_column_without_0"
   ]
  },
  {
   "cell_type": "code",
   "execution_count": 73,
   "metadata": {},
   "outputs": [
    {
     "name": "stdout",
     "output_type": "stream",
     "text": [
      "De 122 columnas, 67 presentan datos nulos\n"
     ]
    },
    {
     "data": {
      "text/html": [
       "<div>\n",
       "<style scoped>\n",
       "    .dataframe tbody tr th:only-of-type {\n",
       "        vertical-align: middle;\n",
       "    }\n",
       "\n",
       "    .dataframe tbody tr th {\n",
       "        vertical-align: top;\n",
       "    }\n",
       "\n",
       "    .dataframe thead th {\n",
       "        text-align: right;\n",
       "    }\n",
       "</style>\n",
       "<table border=\"1\" class=\"dataframe\">\n",
       "  <thead>\n",
       "    <tr style=\"text-align: right;\">\n",
       "      <th></th>\n",
       "      <th>0</th>\n",
       "      <th>1</th>\n",
       "    </tr>\n",
       "  </thead>\n",
       "  <tbody>\n",
       "    <tr>\n",
       "      <th>COMMONAREA_MEDI</th>\n",
       "      <td>214865</td>\n",
       "      <td>69.872297</td>\n",
       "    </tr>\n",
       "    <tr>\n",
       "      <th>COMMONAREA_MODE</th>\n",
       "      <td>214865</td>\n",
       "      <td>69.872297</td>\n",
       "    </tr>\n",
       "    <tr>\n",
       "      <th>COMMONAREA_AVG</th>\n",
       "      <td>214865</td>\n",
       "      <td>69.872297</td>\n",
       "    </tr>\n",
       "    <tr>\n",
       "      <th>NONLIVINGAPARTMENTS_MODE</th>\n",
       "      <td>213514</td>\n",
       "      <td>69.432963</td>\n",
       "    </tr>\n",
       "    <tr>\n",
       "      <th>NONLIVINGAPARTMENTS_MEDI</th>\n",
       "      <td>213514</td>\n",
       "      <td>69.432963</td>\n",
       "    </tr>\n",
       "  </tbody>\n",
       "</table>\n",
       "</div>"
      ],
      "text/plain": [
       "                               0          1\n",
       "COMMONAREA_MEDI           214865  69.872297\n",
       "COMMONAREA_MODE           214865  69.872297\n",
       "COMMONAREA_AVG            214865  69.872297\n",
       "NONLIVINGAPARTMENTS_MODE  213514  69.432963\n",
       "NONLIVINGAPARTMENTS_MEDI  213514  69.432963"
      ]
     },
     "execution_count": 73,
     "metadata": {},
     "output_type": "execute_result"
    }
   ],
   "source": [
    "application_train_null_values_df = null_values_analisis(application_train_df)\n",
    "application_train_null_values_df.head()"
   ]
  },
  {
   "cell_type": "markdown",
   "metadata": {},
   "source": [
    "*optional remove **_MEDI**, **_MODE**, **_AVG***"
   ]
  },
  {
   "cell_type": "markdown",
   "metadata": {},
   "source": [
    "## Check Column Data Type"
   ]
  },
  {
   "cell_type": "code",
   "execution_count": 74,
   "metadata": {},
   "outputs": [
    {
     "data": {
      "text/plain": [
       "float64    65\n",
       "int64      41\n",
       "object     16\n",
       "Name: count, dtype: int64"
      ]
     },
     "execution_count": 74,
     "metadata": {},
     "output_type": "execute_result"
    }
   ],
   "source": [
    "application_train_df.dtypes.value_counts()"
   ]
  },
  {
   "cell_type": "code",
   "execution_count": 75,
   "metadata": {},
   "outputs": [
    {
     "data": {
      "text/plain": [
       "NAME_CONTRACT_TYPE             2\n",
       "CODE_GENDER                    3\n",
       "FLAG_OWN_CAR                   2\n",
       "FLAG_OWN_REALTY                2\n",
       "NAME_TYPE_SUITE                7\n",
       "NAME_INCOME_TYPE               8\n",
       "NAME_EDUCATION_TYPE            5\n",
       "NAME_FAMILY_STATUS             6\n",
       "NAME_HOUSING_TYPE              6\n",
       "OCCUPATION_TYPE               18\n",
       "WEEKDAY_APPR_PROCESS_START     7\n",
       "ORGANIZATION_TYPE             58\n",
       "FONDKAPREMONT_MODE             4\n",
       "HOUSETYPE_MODE                 3\n",
       "WALLSMATERIAL_MODE             7\n",
       "EMERGENCYSTATE_MODE            2\n",
       "dtype: int64"
      ]
     },
     "execution_count": 75,
     "metadata": {},
     "output_type": "execute_result"
    }
   ],
   "source": [
    "# Check String columns to see unque values and detect categorical columns\n",
    "application_train_dtypes_df = application_train_df.select_dtypes('object').apply(pd.Series.nunique, axis = 0)\n",
    "\n",
    "application_train_dtypes_df"
   ]
  },
  {
   "cell_type": "markdown",
   "metadata": {},
   "source": [
    "### Check and Normalize CODE_GENDER"
   ]
  },
  {
   "cell_type": "code",
   "execution_count": 76,
   "metadata": {},
   "outputs": [
    {
     "name": "stdout",
     "output_type": "stream",
     "text": [
      "CODE_GENDER\n",
      "F      202448\n",
      "M      105059\n",
      "XNA         4\n",
      "Name: count, dtype: int64\n",
      "===== NORMALIZE =====\n",
      "====================\n",
      "CODE_GENDER\n",
      "F    202452\n",
      "M    105059\n",
      "Name: count, dtype: int64\n"
     ]
    }
   ],
   "source": [
    "print(application_train_df['CODE_GENDER'].value_counts())\n",
    "print('='*5, 'NORMALIZE', '='*5)\n",
    "# FILL\n",
    "application_train_df['CODE_GENDER'] = application_train_df['CODE_GENDER'].replace('XNA', 'F')\n",
    "print('='*20)\n",
    "print(application_train_df['CODE_GENDER'].value_counts())"
   ]
  },
  {
   "cell_type": "markdown",
   "metadata": {},
   "source": [
    "### Check HOUSETYPE_MODE"
   ]
  },
  {
   "cell_type": "code",
   "execution_count": 77,
   "metadata": {},
   "outputs": [
    {
     "name": "stdout",
     "output_type": "stream",
     "text": [
      "HOUSETYPE_MODE\n",
      "block of flats      150503\n",
      "specific housing      1499\n",
      "terraced house        1212\n",
      "Name: count, dtype: int64\n"
     ]
    }
   ],
   "source": [
    "print(application_train_df['HOUSETYPE_MODE'].value_counts())\n",
    "# IS NOT POSSIBLE FILL DATA"
   ]
  },
  {
   "cell_type": "markdown",
   "metadata": {},
   "source": [
    "## Label Encoding and One Hot Encoding (OHE)"
   ]
  },
  {
   "cell_type": "code",
   "execution_count": 78,
   "metadata": {},
   "outputs": [
    {
     "name": "stdout",
     "output_type": "stream",
     "text": [
      "NAME_CONTRACT_TYPE\n",
      "CODE_GENDER\n",
      "FLAG_OWN_CAR\n",
      "FLAG_OWN_REALTY\n",
      "NAME_TYPE_SUITE\n",
      "NAME_INCOME_TYPE\n",
      "NAME_EDUCATION_TYPE\n",
      "NAME_FAMILY_STATUS\n",
      "NAME_HOUSING_TYPE\n",
      "OCCUPATION_TYPE\n",
      "WEEKDAY_APPR_PROCESS_START\n",
      "ORGANIZATION_TYPE\n",
      "FONDKAPREMONT_MODE\n",
      "HOUSETYPE_MODE\n",
      "WALLSMATERIAL_MODE\n",
      "EMERGENCYSTATE_MODE\n",
      "Traingin dataset shape with OHE application: (307511, 245)\n"
     ]
    }
   ],
   "source": [
    "# Label encoding for categoric columns who have as max 2 unique values\n",
    "label_encoder = LabelEncoder()\n",
    "\n",
    "for categoric_col in application_train_dtypes_df.index:\n",
    "    print(categoric_col)\n",
    "    if (len(list(application_train_df[categoric_col])) <= 2):\n",
    "        label_encoder.fit(application_train_df[categoric_col])\n",
    "        application_train_df[categoric_col] = label_encoder.transform(application_train_df[categoric_col])\n",
    "\n",
    "# for other categoric columns we will use OHE\n",
    "application_train_df = pd.get_dummies(application_train_df)\n",
    "\n",
    "print('Traingin dataset shape with OHE application:', application_train_df.shape)"
   ]
  },
  {
   "cell_type": "markdown",
   "metadata": {},
   "source": [
    "# Check outliers"
   ]
  },
  {
   "cell_type": "code",
   "execution_count": null,
   "metadata": {},
   "outputs": [],
   "source": []
  },
  {
   "cell_type": "code",
   "execution_count": 79,
   "metadata": {},
   "outputs": [
    {
     "data": {
      "text/plain": [
       "<Axes: title={'center': 'Years Birth'}>"
      ]
     },
     "execution_count": 79,
     "metadata": {},
     "output_type": "execute_result"
    },
    {
     "data": {
      "image/png": "[encoded data removed]",
      "text/plain": [
       "<Figure size 640x480 with 1 Axes>"
      ]
     },
     "metadata": {},
     "output_type": "display_data"
    }
   ],
   "source": [
    "# DAYS_BIRTH for any reason is in negative values, for practice reason we will set a new column in age\n",
    "application_train_df['YEARS_BIRTH'] = (application_train_df['DAYS_BIRTH'] / -365)\n",
    "application_train_df['YEARS_BIRTH'].plot.box(title='Years Birth')"
   ]
  },
  {
   "cell_type": "code",
   "execution_count": 80,
   "metadata": {},
   "outputs": [
    {
     "data": {
      "text/plain": [
       "<Axes: title={'center': 'Years Birth'}>"
      ]
     },
     "execution_count": 80,
     "metadata": {},
     "output_type": "execute_result"
    },
    {
     "data": {
      "image/png": "[encoded data removed]",
      "text/plain": [
       "<Figure size 640x480 with 1 Axes>"
      ]
     },
     "metadata": {},
     "output_type": "display_data"
    }
   ],
   "source": [
    "application_train_df['YEARS_EMPLOYED'] = (application_train_df['DAYS_EMPLOYED'] / -365)\n",
    "application_train_df['YEARS_EMPLOYED'].plot.box(title='Years Birth')\n",
    "# ???"
   ]
  },
  {
   "cell_type": "code",
   "execution_count": 81,
   "metadata": {},
   "outputs": [
    {
     "name": "stdout",
     "output_type": "stream",
     "text": [
      "4.979832392707139 %\n"
     ]
    },
    {
     "data": {
      "image/png": "[encoded data removed]",
      "text/plain": [
       "<Figure size 1200x600 with 2 Axes>"
      ]
     },
     "metadata": {},
     "output_type": "display_data"
    }
   ],
   "source": [
    "#print(application_train_df['DAYS_EMPLOYED'].max())\n",
    "min_annomalie = application_train_df['YEARS_EMPLOYED'].min()\n",
    "max_annomalie = application_train_df[application_train_df['YEARS_EMPLOYED'] == min_annomalie]\n",
    "# dataset presents 18% cases where days employed appears with 365243 ??\n",
    "\n",
    "df_filtered = application_train_df[application_train_df['YEARS_EMPLOYED'] != min_annomalie]\n",
    "\n",
    "other_annomalie = application_train_df[application_train_df['YEARS_EMPLOYED'] > 20]\n",
    "\n",
    "fig, axes = plt.subplots(nrows=1,ncols=2,figsize=(12,6))\n",
    "\n",
    "df_filtered['YEARS_EMPLOYED'].plot.box(ax = axes[0],subplots=True)\n",
    "df_filtered['YEARS_EMPLOYED'].plot.hist(ax = axes[1],subplots=True, title = 'Days Employment Histogram')\n",
    "\n",
    "print(len(other_annomalie) / len(df_filtered) * 100, '%')"
   ]
  },
  {
   "cell_type": "markdown",
   "metadata": {},
   "source": [
    "Dado a que estos nuevos outliers presentan aproximadamente un 5% los podriamos descartar"
   ]
  },
  {
   "cell_type": "markdown",
   "metadata": {},
   "source": [
    "# Correlations"
   ]
  },
  {
   "cell_type": "code",
   "execution_count": 82,
   "metadata": {},
   "outputs": [
    {
     "name": "stdout",
     "output_type": "stream",
     "text": [
      "Mejores correlaciones Positivas\n",
      " ========== \n",
      " TARGET                                               1.000000\n",
      "DAYS_EMPLOYED                                        0.074958\n",
      "REGION_RATING_CLIENT_W_CITY                          0.067458\n",
      "DAYS_BIRTH                                           0.065756\n",
      "REGION_RATING_CLIENT                                 0.065113\n",
      "NAME_EDUCATION_TYPE_Secondary / secondary special    0.060637\n",
      "DAYS_LAST_PHONE_CHANGE                               0.060288\n",
      "CODE_GENDER_M                                        0.049210\n",
      "REG_CITY_NOT_WORK_CITY                               0.043384\n",
      "NAME_INCOME_TYPE_Working                             0.043052\n",
      "REG_CITY_NOT_LIVE_CITY                               0.041977\n",
      "FLAG_DOCUMENT_3                                      0.041272\n",
      "DAYS_ID_PUBLISH                                      0.039910\n",
      "OWN_CAR_AGE                                          0.039025\n",
      "NAME_CONTRACT_TYPE_Cash loans                        0.036225\n",
      "Name: TARGET, dtype: float64\n",
      "Mejores correlaciones Negativas\n",
      " ========== \n",
      " HOUSETYPE_MODE_block of flats          -0.043757\n",
      "EMERGENCYSTATE_MODE_No                 -0.045394\n",
      "FLOORSMAX_MODE                         -0.048554\n",
      "FLOORSMAX_MEDI                         -0.049159\n",
      "CODE_GENDER_F                          -0.049210\n",
      "FLOORSMAX_AVG                          -0.049468\n",
      "AMT_GOODS_PRICE                        -0.050342\n",
      "YEARS_BIRTH                            -0.065756\n",
      "NAME_EDUCATION_TYPE_Higher education   -0.067293\n",
      "YEARS_EMPLOYED                         -0.074958\n",
      "EXT_SOURCE_1                           -0.155341\n",
      "EXT_SOURCE_2                           -0.170531\n",
      "EXT_SOURCE_3                           -0.179762\n",
      "NAME_INCOME_TYPE_Unemployed                  NaN\n",
      "ORGANIZATION_TYPE_XNA                        NaN\n",
      "Name: TARGET, dtype: float64\n"
     ]
    }
   ],
   "source": [
    "corr = df_filtered.corr()['TARGET'].sort_values(ascending=False)\n",
    "\n",
    "print('Mejores correlaciones Positivas\\n', '='*10, '\\n', corr.head(15                                       ))\n",
    "print('Mejores correlaciones Negativas\\n', '='*10, '\\n', corr.tail(15))"
   ]
  },
  {
   "cell_type": "markdown",
   "metadata": {},
   "source": [
    "## How age would affects repayment?"
   ]
  },
  {
   "cell_type": "markdown",
   "metadata": {},
   "source": [
    "Como vemos que las relaciones más positivas están dados por valores continuos están dados por days_employed y days_birth, pero como veiamos antes estos valores son días en negativo, por lo cual es una correlación negativa que vamos a trabajar con su conversión a años positivos. Confirmemeos estas relaciones"
   ]
  },
  {
   "cell_type": "code",
   "execution_count": 83,
   "metadata": {},
   "outputs": [
    {
     "data": {
      "text/plain": [
       "np.float64(-0.0657555386162157)"
      ]
     },
     "execution_count": 83,
     "metadata": {},
     "output_type": "execute_result"
    }
   ],
   "source": [
    "print(df_filtered['YEARS_BIRTH'].corr(df_filtered['TARGET']))"
   ]
  },
  {
   "cell_type": "markdown",
   "metadata": {},
   "source": [
    "#### ¿Cual es la distribución de edades y su relación con el target?"
   ]
  },
  {
   "cell_type": "code",
   "execution_count": 111,
   "metadata": {},
   "outputs": [
    {
     "data": {
      "text/plain": [
       "<matplotlib.legend.Legend at 0x7b0714561710>"
      ]
     },
     "execution_count": 111,
     "metadata": {},
     "output_type": "execute_result"
    },
    {
     "data": {
      "image/png": "[encoded data removed]",
      "text/plain": [
       "<Figure size 600x1200 with 2 Axes>"
      ]
     },
     "metadata": {},
     "output_type": "display_data"
    }
   ],
   "source": [
    "fig, axes = plt.subplots(nrows=2,ncols=1,figsize=(6,12))\n",
    "\n",
    "(df_filtered.loc[df_filtered['TARGET'] == 0, 'YEARS_BIRTH']).plot.kde(ax = axes[1], label=\"NO present difficults\")\n",
    "(df_filtered.loc[df_filtered['TARGET'] == 1, 'YEARS_BIRTH']).plot.kde(color=\"red\", ax = axes[1], label=\"present difficults\")\n",
    "(df_filtered['YEARS_BIRTH']).plot.hist(ax= axes[0], edgecolor='k', bins=25)\n",
    "axes[1].set_xlim(17, 72)\n",
    "axes[1].legend()"
   ]
  },
  {
   "cell_type": "markdown",
   "metadata": {},
   "source": [
    "Pareciera que hubiera una mayor concentración en especial de casos donde personas proximadamente entre 20 y 30 años presentan más dificultades para le reembolso de prestamos, para hacer un mejor analisis de una posible tendencia podríamos hacer una discriminación de casos por intervalos de edades"
   ]
  },
  {
   "cell_type": "code",
   "execution_count": 128,
   "metadata": {},
   "outputs": [
    {
     "name": "stdout",
     "output_type": "stream",
     "text": [
      "(252137, 3)\n"
     ]
    },
    {
     "name": "stderr",
     "output_type": "stream",
     "text": [
      "/tmp/ipykernel_91079/3642804541.py:3: SettingWithCopyWarning: \n",
      "A value is trying to be set on a copy of a slice from a DataFrame.\n",
      "Try using .loc[row_indexer,col_indexer] = value instead\n",
      "\n",
      "See the caveats in the documentation: https://pandas.pydata.org/pandas-docs/stable/user_guide/indexing.html#returning-a-view-versus-a-copy\n",
      "  age_df['YEARS_BIRTH_BINNERED'] = pd.cut(age_df['YEARS_BIRTH'], bins = np.linspace(20, 70, num = 11))\n"
     ]
    },
    {
     "data": {
      "text/html": [
       "<div>\n",
       "<style scoped>\n",
       "    .dataframe tbody tr th:only-of-type {\n",
       "        vertical-align: middle;\n",
       "    }\n",
       "\n",
       "    .dataframe tbody tr th {\n",
       "        vertical-align: top;\n",
       "    }\n",
       "\n",
       "    .dataframe thead th {\n",
       "        text-align: right;\n",
       "    }\n",
       "</style>\n",
       "<table border=\"1\" class=\"dataframe\">\n",
       "  <thead>\n",
       "    <tr style=\"text-align: right;\">\n",
       "      <th></th>\n",
       "      <th>TARGET</th>\n",
       "      <th>YEARS_BIRTH</th>\n",
       "      <th>FAILURE_REPAY</th>\n",
       "    </tr>\n",
       "    <tr>\n",
       "      <th>YEARS_BIRTH_BINNERED</th>\n",
       "      <th></th>\n",
       "      <th></th>\n",
       "      <th></th>\n",
       "    </tr>\n",
       "  </thead>\n",
       "  <tbody>\n",
       "    <tr>\n",
       "      <th>(20.0, 25.0]</th>\n",
       "      <td>0.122722</td>\n",
       "      <td>23.377690</td>\n",
       "      <td>12.272165</td>\n",
       "    </tr>\n",
       "    <tr>\n",
       "      <th>(25.0, 30.0]</th>\n",
       "      <td>0.111447</td>\n",
       "      <td>27.823198</td>\n",
       "      <td>11.144689</td>\n",
       "    </tr>\n",
       "    <tr>\n",
       "      <th>(30.0, 35.0]</th>\n",
       "      <td>0.102594</td>\n",
       "      <td>32.478715</td>\n",
       "      <td>10.259413</td>\n",
       "    </tr>\n",
       "    <tr>\n",
       "      <th>(35.0, 40.0]</th>\n",
       "      <td>0.089336</td>\n",
       "      <td>37.552277</td>\n",
       "      <td>8.933568</td>\n",
       "    </tr>\n",
       "    <tr>\n",
       "      <th>(40.0, 45.0]</th>\n",
       "      <td>0.078174</td>\n",
       "      <td>42.454862</td>\n",
       "      <td>7.817406</td>\n",
       "    </tr>\n",
       "    <tr>\n",
       "      <th>(45.0, 50.0]</th>\n",
       "      <td>0.073991</td>\n",
       "      <td>47.453676</td>\n",
       "      <td>7.399116</td>\n",
       "    </tr>\n",
       "    <tr>\n",
       "      <th>(50.0, 55.0]</th>\n",
       "      <td>0.067840</td>\n",
       "      <td>52.541347</td>\n",
       "      <td>6.783977</td>\n",
       "    </tr>\n",
       "    <tr>\n",
       "      <th>(55.0, 60.0]</th>\n",
       "      <td>0.058527</td>\n",
       "      <td>57.245062</td>\n",
       "      <td>5.852724</td>\n",
       "    </tr>\n",
       "    <tr>\n",
       "      <th>(60.0, 65.0]</th>\n",
       "      <td>0.046597</td>\n",
       "      <td>62.127670</td>\n",
       "      <td>4.659706</td>\n",
       "    </tr>\n",
       "    <tr>\n",
       "      <th>(65.0, 70.0]</th>\n",
       "      <td>0.028951</td>\n",
       "      <td>66.548421</td>\n",
       "      <td>2.895054</td>\n",
       "    </tr>\n",
       "  </tbody>\n",
       "</table>\n",
       "</div>"
      ],
      "text/plain": [
       "                        TARGET  YEARS_BIRTH  FAILURE_REPAY\n",
       "YEARS_BIRTH_BINNERED                                      \n",
       "(20.0, 25.0]          0.122722    23.377690      12.272165\n",
       "(25.0, 30.0]          0.111447    27.823198      11.144689\n",
       "(30.0, 35.0]          0.102594    32.478715      10.259413\n",
       "(35.0, 40.0]          0.089336    37.552277       8.933568\n",
       "(40.0, 45.0]          0.078174    42.454862       7.817406\n",
       "(45.0, 50.0]          0.073991    47.453676       7.399116\n",
       "(50.0, 55.0]          0.067840    52.541347       6.783977\n",
       "(55.0, 60.0]          0.058527    57.245062       5.852724\n",
       "(60.0, 65.0]          0.046597    62.127670       4.659706\n",
       "(65.0, 70.0]          0.028951    66.548421       2.895054"
      ]
     },
     "execution_count": 128,
     "metadata": {},
     "output_type": "execute_result"
    }
   ],
   "source": [
    "age_df = df_filtered[['TARGET', 'YEARS_BIRTH']]\n",
    "\n",
    "age_df['YEARS_BIRTH_BINNERED'] = pd.cut(age_df['YEARS_BIRTH'], bins = np.linspace(20, 70, num = 11))\n",
    "print(age_df.shape)\n",
    "\n",
    "age_groups  = age_df.groupby('YEARS_BIRTH_BINNERED', observed=False).aggregate('mean')\n",
    "\n",
    "age_groups['FAILURE_REPAY'] = age_groups['TARGET'].apply(lambda x: x*100)\n",
    "\n",
    "age_groups"
   ]
  },
  {
   "cell_type": "code",
   "execution_count": 129,
   "metadata": {},
   "outputs": [
    {
     "data": {
      "text/plain": [
       "<Axes: xlabel='YEARS_BIRTH_BINNERED'>"
      ]
     },
     "execution_count": 129,
     "metadata": {},
     "output_type": "execute_result"
    },
    {
     "data": {
      "image/png": "[encoded data removed]",
      "text/plain": [
       "<Figure size 800x800 with 1 Axes>"
      ]
     },
     "metadata": {},
     "output_type": "display_data"
    }
   ],
   "source": [
    "plt.figure(figsize = (8, 8))\n",
    "\n",
    "age_groups['FAILURE_REPAY'].plot.bar()"
   ]
  },
  {
   "cell_type": "markdown",
   "metadata": {},
   "source": [
    "Aquí se muestra perfectamente la relación de la edad con respecto al porcentaje de presentar dificultades de pago."
   ]
  },
  {
   "cell_type": "code",
   "execution_count": null,
   "metadata": {},
   "outputs": [],
   "source": []
  }
 ],
 "metadata": {
  "kernelspec": {
   "display_name": "data-science-project-home-credit-default-r-mCkHzkua-py3.11",
   "language": "python",
   "name": "python3"
  },
  "language_info": {
   "codemirror_mode": {
    "name": "ipython",
    "version": 3
   },
   "file_extension": ".py",
   "mimetype": "text/x-python",
   "name": "python",
   "nbconvert_exporter": "python",
   "pygments_lexer": "ipython3",
   "version": "3.11.9"
  }
 },
 "nbformat": 4,
 "nbformat_minor": 2
}
